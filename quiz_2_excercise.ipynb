{
 "cells": [
  {
   "cell_type": "code",
   "execution_count": 1,
   "metadata": {},
   "outputs": [],
   "source": [
    "# import packages\n",
    "%matplotlib inline\n",
    "import numpy as np\n",
    "import matplotlib.pyplot as plt\n",
    "import seaborn as sns\n",
    "import pandas as pd\n",
    "from matplotlib.legend_handler import HandlerLine2D\n",
    "from sklearn.metrics import accuracy_score\n",
    "from sklearn.metrics import confusion_matrix\n",
    "from sklearn.metrics import mean_squared_error\n",
    "from sklearn.metrics import mean_absolute_error\n",
    "from sklearn.tree import DecisionTreeClassifier\n",
    "from sklearn.tree import DecisionTreeRegressor\n",
    "from sklearn.model_selection import GridSearchCV\n",
    "\n",
    "# make this notebook's output stable across runs\n",
    "np.random.seed(0)"
   ]
  },
  {
   "cell_type": "code",
   "execution_count": 2,
   "metadata": {},
   "outputs": [
    {
     "data": {
      "text/html": [
       "<div>\n",
       "<style scoped>\n",
       "    .dataframe tbody tr th:only-of-type {\n",
       "        vertical-align: middle;\n",
       "    }\n",
       "\n",
       "    .dataframe tbody tr th {\n",
       "        vertical-align: top;\n",
       "    }\n",
       "\n",
       "    .dataframe thead th {\n",
       "        text-align: right;\n",
       "    }\n",
       "</style>\n",
       "<table border=\"1\" class=\"dataframe\">\n",
       "  <thead>\n",
       "    <tr style=\"text-align: right;\">\n",
       "      <th></th>\n",
       "      <th>1. animal name:</th>\n",
       "      <th>2. hair</th>\n",
       "      <th>3. feathers</th>\n",
       "      <th>4. eggs</th>\n",
       "      <th>5. milk</th>\n",
       "      <th>6. airborne</th>\n",
       "      <th>7. aquatic</th>\n",
       "      <th>8. predator</th>\n",
       "      <th>9. toothed</th>\n",
       "      <th>10. backbone</th>\n",
       "      <th>11. breathes</th>\n",
       "      <th>12. venomous</th>\n",
       "      <th>13. fins</th>\n",
       "      <th>14. legs</th>\n",
       "      <th>15. tail</th>\n",
       "      <th>16. domestic</th>\n",
       "      <th>17. catsize</th>\n",
       "      <th>18. type</th>\n",
       "    </tr>\n",
       "  </thead>\n",
       "  <tbody>\n",
       "    <tr>\n",
       "      <th>0</th>\n",
       "      <td>aardvark</td>\n",
       "      <td>True</td>\n",
       "      <td>False</td>\n",
       "      <td>False</td>\n",
       "      <td>True</td>\n",
       "      <td>False</td>\n",
       "      <td>False</td>\n",
       "      <td>True</td>\n",
       "      <td>True</td>\n",
       "      <td>True</td>\n",
       "      <td>True</td>\n",
       "      <td>False</td>\n",
       "      <td>False</td>\n",
       "      <td>4</td>\n",
       "      <td>False</td>\n",
       "      <td>False</td>\n",
       "      <td>True</td>\n",
       "      <td>mammal</td>\n",
       "    </tr>\n",
       "    <tr>\n",
       "      <th>1</th>\n",
       "      <td>antelope</td>\n",
       "      <td>True</td>\n",
       "      <td>False</td>\n",
       "      <td>False</td>\n",
       "      <td>True</td>\n",
       "      <td>False</td>\n",
       "      <td>False</td>\n",
       "      <td>False</td>\n",
       "      <td>True</td>\n",
       "      <td>True</td>\n",
       "      <td>True</td>\n",
       "      <td>False</td>\n",
       "      <td>False</td>\n",
       "      <td>4</td>\n",
       "      <td>True</td>\n",
       "      <td>False</td>\n",
       "      <td>True</td>\n",
       "      <td>mammal</td>\n",
       "    </tr>\n",
       "    <tr>\n",
       "      <th>2</th>\n",
       "      <td>bass</td>\n",
       "      <td>False</td>\n",
       "      <td>False</td>\n",
       "      <td>True</td>\n",
       "      <td>False</td>\n",
       "      <td>False</td>\n",
       "      <td>True</td>\n",
       "      <td>True</td>\n",
       "      <td>True</td>\n",
       "      <td>True</td>\n",
       "      <td>False</td>\n",
       "      <td>False</td>\n",
       "      <td>True</td>\n",
       "      <td>0</td>\n",
       "      <td>True</td>\n",
       "      <td>False</td>\n",
       "      <td>False</td>\n",
       "      <td>fish</td>\n",
       "    </tr>\n",
       "    <tr>\n",
       "      <th>3</th>\n",
       "      <td>bear</td>\n",
       "      <td>True</td>\n",
       "      <td>False</td>\n",
       "      <td>False</td>\n",
       "      <td>True</td>\n",
       "      <td>False</td>\n",
       "      <td>False</td>\n",
       "      <td>True</td>\n",
       "      <td>True</td>\n",
       "      <td>True</td>\n",
       "      <td>True</td>\n",
       "      <td>False</td>\n",
       "      <td>False</td>\n",
       "      <td>4</td>\n",
       "      <td>False</td>\n",
       "      <td>False</td>\n",
       "      <td>True</td>\n",
       "      <td>mammal</td>\n",
       "    </tr>\n",
       "    <tr>\n",
       "      <th>4</th>\n",
       "      <td>boar</td>\n",
       "      <td>True</td>\n",
       "      <td>False</td>\n",
       "      <td>False</td>\n",
       "      <td>True</td>\n",
       "      <td>False</td>\n",
       "      <td>False</td>\n",
       "      <td>True</td>\n",
       "      <td>True</td>\n",
       "      <td>True</td>\n",
       "      <td>True</td>\n",
       "      <td>False</td>\n",
       "      <td>False</td>\n",
       "      <td>4</td>\n",
       "      <td>True</td>\n",
       "      <td>False</td>\n",
       "      <td>True</td>\n",
       "      <td>mammal</td>\n",
       "    </tr>\n",
       "  </tbody>\n",
       "</table>\n",
       "</div>"
      ],
      "text/plain": [
       "  1. animal name:  2. hair  3. feathers  4. eggs  5. milk  6. airborne  \\\n",
       "0        aardvark     True        False    False     True        False   \n",
       "1        antelope     True        False    False     True        False   \n",
       "2            bass    False        False     True    False        False   \n",
       "3            bear     True        False    False     True        False   \n",
       "4            boar     True        False    False     True        False   \n",
       "\n",
       "   7. aquatic  8. predator  9. toothed  10. backbone  11. breathes  \\\n",
       "0       False         True        True          True          True   \n",
       "1       False        False        True          True          True   \n",
       "2        True         True        True          True         False   \n",
       "3       False         True        True          True          True   \n",
       "4       False         True        True          True          True   \n",
       "\n",
       "   12. venomous  13. fins  14. legs  15. tail  16. domestic  17. catsize  \\\n",
       "0         False     False         4     False         False         True   \n",
       "1         False     False         4      True         False         True   \n",
       "2         False      True         0      True         False        False   \n",
       "3         False     False         4     False         False         True   \n",
       "4         False     False         4      True         False         True   \n",
       "\n",
       "  18. type  \n",
       "0   mammal  \n",
       "1   mammal  \n",
       "2     fish  \n",
       "3   mammal  \n",
       "4   mammal  "
      ]
     },
     "execution_count": 2,
     "metadata": {},
     "output_type": "execute_result"
    }
   ],
   "source": [
    "filename = 'animalscsv.csv'\n",
    "df = pd.read_csv(filename)\n",
    "df.head()"
   ]
  },
  {
   "cell_type": "code",
   "execution_count": 3,
   "metadata": {},
   "outputs": [
    {
     "data": {
      "text/plain": [
       "(101, 18)"
      ]
     },
     "execution_count": 3,
     "metadata": {},
     "output_type": "execute_result"
    }
   ],
   "source": [
    "df.shape"
   ]
  },
  {
   "cell_type": "code",
   "execution_count": 4,
   "metadata": {},
   "outputs": [
    {
     "data": {
      "text/plain": [
       "1. animal name:    object\n",
       "2. hair              bool\n",
       "3. feathers          bool\n",
       "4. eggs              bool\n",
       "5. milk              bool\n",
       "6. airborne          bool\n",
       "7. aquatic           bool\n",
       "8. predator          bool\n",
       "9. toothed           bool\n",
       "10. backbone         bool\n",
       "11. breathes         bool\n",
       "12. venomous         bool\n",
       "13. fins             bool\n",
       "14. legs            int64\n",
       "15. tail             bool\n",
       "16. domestic         bool\n",
       "17. catsize          bool\n",
       "18. type           object\n",
       "dtype: object"
      ]
     },
     "execution_count": 4,
     "metadata": {},
     "output_type": "execute_result"
    }
   ],
   "source": [
    "df.dtypes"
   ]
  },
  {
   "cell_type": "code",
   "execution_count": 5,
   "metadata": {},
   "outputs": [
    {
     "data": {
      "text/plain": [
       "1. animal name:    0\n",
       "2. hair            0\n",
       "3. feathers        0\n",
       "4. eggs            0\n",
       "5. milk            0\n",
       "6. airborne        0\n",
       "7. aquatic         0\n",
       "8. predator        0\n",
       "9. toothed         0\n",
       "10. backbone       0\n",
       "11. breathes       0\n",
       "12. venomous       0\n",
       "13. fins           0\n",
       "14. legs           0\n",
       "15. tail           0\n",
       "16. domestic       0\n",
       "17. catsize        0\n",
       "18. type           0\n",
       "dtype: int64"
      ]
     },
     "execution_count": 5,
     "metadata": {},
     "output_type": "execute_result"
    }
   ],
   "source": [
    "df.isnull().sum()"
   ]
  },
  {
   "cell_type": "code",
   "execution_count": 6,
   "metadata": {},
   "outputs": [],
   "source": [
    "numeric_columns = df.columns.to_list()\n",
    "numeric_columns.remove('1. animal name:')\n",
    "numeric_columns.remove('18. type')\n",
    "df[numeric_columns] = df[numeric_columns].astype(int)"
   ]
  },
  {
   "cell_type": "code",
   "execution_count": 7,
   "metadata": {},
   "outputs": [
    {
     "data": {
      "text/plain": [
       "['2. hair',\n",
       " '3. feathers',\n",
       " '4. eggs',\n",
       " '5. milk',\n",
       " '6. airborne',\n",
       " '7. aquatic',\n",
       " '8. predator',\n",
       " '9. toothed',\n",
       " '10. backbone',\n",
       " '11. breathes',\n",
       " '12. venomous',\n",
       " '13. fins',\n",
       " '14. legs',\n",
       " '15. tail',\n",
       " '16. domestic',\n",
       " '17. catsize']"
      ]
     },
     "execution_count": 7,
     "metadata": {},
     "output_type": "execute_result"
    }
   ],
   "source": [
    "numeric_columns"
   ]
  },
  {
   "cell_type": "code",
   "execution_count": 8,
   "metadata": {},
   "outputs": [
    {
     "data": {
      "text/html": [
       "<div>\n",
       "<style scoped>\n",
       "    .dataframe tbody tr th:only-of-type {\n",
       "        vertical-align: middle;\n",
       "    }\n",
       "\n",
       "    .dataframe tbody tr th {\n",
       "        vertical-align: top;\n",
       "    }\n",
       "\n",
       "    .dataframe thead th {\n",
       "        text-align: right;\n",
       "    }\n",
       "</style>\n",
       "<table border=\"1\" class=\"dataframe\">\n",
       "  <thead>\n",
       "    <tr style=\"text-align: right;\">\n",
       "      <th></th>\n",
       "      <th>1. animal name:</th>\n",
       "      <th>2. hair</th>\n",
       "      <th>3. feathers</th>\n",
       "      <th>4. eggs</th>\n",
       "      <th>5. milk</th>\n",
       "      <th>6. airborne</th>\n",
       "      <th>7. aquatic</th>\n",
       "      <th>8. predator</th>\n",
       "      <th>9. toothed</th>\n",
       "      <th>10. backbone</th>\n",
       "      <th>11. breathes</th>\n",
       "      <th>12. venomous</th>\n",
       "      <th>13. fins</th>\n",
       "      <th>14. legs</th>\n",
       "      <th>15. tail</th>\n",
       "      <th>16. domestic</th>\n",
       "      <th>17. catsize</th>\n",
       "      <th>18. type</th>\n",
       "    </tr>\n",
       "  </thead>\n",
       "  <tbody>\n",
       "    <tr>\n",
       "      <th>0</th>\n",
       "      <td>aardvark</td>\n",
       "      <td>1</td>\n",
       "      <td>0</td>\n",
       "      <td>0</td>\n",
       "      <td>1</td>\n",
       "      <td>0</td>\n",
       "      <td>0</td>\n",
       "      <td>1</td>\n",
       "      <td>1</td>\n",
       "      <td>1</td>\n",
       "      <td>1</td>\n",
       "      <td>0</td>\n",
       "      <td>0</td>\n",
       "      <td>4</td>\n",
       "      <td>0</td>\n",
       "      <td>0</td>\n",
       "      <td>1</td>\n",
       "      <td>mammal</td>\n",
       "    </tr>\n",
       "    <tr>\n",
       "      <th>1</th>\n",
       "      <td>antelope</td>\n",
       "      <td>1</td>\n",
       "      <td>0</td>\n",
       "      <td>0</td>\n",
       "      <td>1</td>\n",
       "      <td>0</td>\n",
       "      <td>0</td>\n",
       "      <td>0</td>\n",
       "      <td>1</td>\n",
       "      <td>1</td>\n",
       "      <td>1</td>\n",
       "      <td>0</td>\n",
       "      <td>0</td>\n",
       "      <td>4</td>\n",
       "      <td>1</td>\n",
       "      <td>0</td>\n",
       "      <td>1</td>\n",
       "      <td>mammal</td>\n",
       "    </tr>\n",
       "    <tr>\n",
       "      <th>2</th>\n",
       "      <td>bass</td>\n",
       "      <td>0</td>\n",
       "      <td>0</td>\n",
       "      <td>1</td>\n",
       "      <td>0</td>\n",
       "      <td>0</td>\n",
       "      <td>1</td>\n",
       "      <td>1</td>\n",
       "      <td>1</td>\n",
       "      <td>1</td>\n",
       "      <td>0</td>\n",
       "      <td>0</td>\n",
       "      <td>1</td>\n",
       "      <td>0</td>\n",
       "      <td>1</td>\n",
       "      <td>0</td>\n",
       "      <td>0</td>\n",
       "      <td>fish</td>\n",
       "    </tr>\n",
       "    <tr>\n",
       "      <th>3</th>\n",
       "      <td>bear</td>\n",
       "      <td>1</td>\n",
       "      <td>0</td>\n",
       "      <td>0</td>\n",
       "      <td>1</td>\n",
       "      <td>0</td>\n",
       "      <td>0</td>\n",
       "      <td>1</td>\n",
       "      <td>1</td>\n",
       "      <td>1</td>\n",
       "      <td>1</td>\n",
       "      <td>0</td>\n",
       "      <td>0</td>\n",
       "      <td>4</td>\n",
       "      <td>0</td>\n",
       "      <td>0</td>\n",
       "      <td>1</td>\n",
       "      <td>mammal</td>\n",
       "    </tr>\n",
       "    <tr>\n",
       "      <th>4</th>\n",
       "      <td>boar</td>\n",
       "      <td>1</td>\n",
       "      <td>0</td>\n",
       "      <td>0</td>\n",
       "      <td>1</td>\n",
       "      <td>0</td>\n",
       "      <td>0</td>\n",
       "      <td>1</td>\n",
       "      <td>1</td>\n",
       "      <td>1</td>\n",
       "      <td>1</td>\n",
       "      <td>0</td>\n",
       "      <td>0</td>\n",
       "      <td>4</td>\n",
       "      <td>1</td>\n",
       "      <td>0</td>\n",
       "      <td>1</td>\n",
       "      <td>mammal</td>\n",
       "    </tr>\n",
       "  </tbody>\n",
       "</table>\n",
       "</div>"
      ],
      "text/plain": [
       "  1. animal name:  2. hair  3. feathers  4. eggs  5. milk  6. airborne  \\\n",
       "0        aardvark        1            0        0        1            0   \n",
       "1        antelope        1            0        0        1            0   \n",
       "2            bass        0            0        1        0            0   \n",
       "3            bear        1            0        0        1            0   \n",
       "4            boar        1            0        0        1            0   \n",
       "\n",
       "   7. aquatic  8. predator  9. toothed  10. backbone  11. breathes  \\\n",
       "0           0            1           1             1             1   \n",
       "1           0            0           1             1             1   \n",
       "2           1            1           1             1             0   \n",
       "3           0            1           1             1             1   \n",
       "4           0            1           1             1             1   \n",
       "\n",
       "   12. venomous  13. fins  14. legs  15. tail  16. domestic  17. catsize  \\\n",
       "0             0         0         4         0             0            1   \n",
       "1             0         0         4         1             0            1   \n",
       "2             0         1         0         1             0            0   \n",
       "3             0         0         4         0             0            1   \n",
       "4             0         0         4         1             0            1   \n",
       "\n",
       "  18. type  \n",
       "0   mammal  \n",
       "1   mammal  \n",
       "2     fish  \n",
       "3   mammal  \n",
       "4   mammal  "
      ]
     },
     "execution_count": 8,
     "metadata": {},
     "output_type": "execute_result"
    }
   ],
   "source": [
    "df.head()"
   ]
  },
  {
   "cell_type": "code",
   "execution_count": 48,
   "metadata": {},
   "outputs": [
    {
     "data": {
      "text/plain": [
       "<seaborn.axisgrid.FacetGrid at 0x2ca7814ea58>"
      ]
     },
     "execution_count": 48,
     "metadata": {},
     "output_type": "execute_result"
    },
    {
     "data": {
      "image/png": "[encoded data removed]",
      "text/plain": [
       "<Figure size 360x360 with 1 Axes>"
      ]
     },
     "metadata": {
      "needs_background": "light"
     },
     "output_type": "display_data"
    }
   ],
   "source": [
    "import seaborn as sns\n",
    "g = sns.catplot(x='18. type', kind=\"count\", palette=\"ch:.1\",data=df)\n",
    "g.set_xticklabels(rotation=30)"
   ]
  },
  {
   "cell_type": "code",
   "execution_count": 10,
   "metadata": {},
   "outputs": [
    {
     "data": {
      "text/plain": [
       "mammal          41\n",
       "bird            20\n",
       "fish            13\n",
       "invertebrate    10\n",
       "insect           8\n",
       "reptile          5\n",
       "amphibian        4\n",
       "Name: 18. type, dtype: int64"
      ]
     },
     "execution_count": 10,
     "metadata": {},
     "output_type": "execute_result"
    }
   ],
   "source": [
    "df['18. type'].value_counts()"
   ]
  },
  {
   "cell_type": "code",
   "execution_count": 11,
   "metadata": {},
   "outputs": [
    {
     "data": {
      "text/plain": [
       "100"
      ]
     },
     "execution_count": 11,
     "metadata": {},
     "output_type": "execute_result"
    }
   ],
   "source": [
    "len(df['1. animal name:'].unique())"
   ]
  },
  {
   "cell_type": "code",
   "execution_count": 12,
   "metadata": {},
   "outputs": [
    {
     "data": {
      "text/plain": [
       "0    58\n",
       "1    43\n",
       "Name: 2. hair, dtype: int64"
      ]
     },
     "execution_count": 12,
     "metadata": {},
     "output_type": "execute_result"
    }
   ],
   "source": [
    "df[\"2. hair\"].value_counts()"
   ]
  },
  {
   "cell_type": "code",
   "execution_count": 52,
   "metadata": {},
   "outputs": [
    {
     "data": {
      "text/plain": [
       "mammal          41\n",
       "bird            20\n",
       "fish            13\n",
       "invertebrate    10\n",
       "insect           8\n",
       "reptile          5\n",
       "amphibian        4\n",
       "Name: 18. type, dtype: int64"
      ]
     },
     "execution_count": 52,
     "metadata": {},
     "output_type": "execute_result"
    }
   ],
   "source": [
    "df['18. type'].value_counts()"
   ]
  },
  {
   "cell_type": "markdown",
   "metadata": {},
   "source": [
    "-----------------"
   ]
  },
  {
   "cell_type": "code",
   "execution_count": 50,
   "metadata": {},
   "outputs": [
    {
     "data": {
      "text/plain": [
       "mammal    41\n",
       "Name: 18. type, dtype: int64"
      ]
     },
     "execution_count": 50,
     "metadata": {},
     "output_type": "execute_result"
    }
   ],
   "source": [
    "option = df[df[\"5. milk\"] == 1]\n",
    "option['18. type'].value_counts()"
   ]
  },
  {
   "cell_type": "code",
   "execution_count": 14,
   "metadata": {},
   "outputs": [],
   "source": [
    "yei = option['18. type'].value_counts()"
   ]
  },
  {
   "cell_type": "code",
   "execution_count": 51,
   "metadata": {},
   "outputs": [
    {
     "data": {
      "text/plain": [
       "bird            20\n",
       "fish            13\n",
       "invertebrate    10\n",
       "insect           8\n",
       "reptile          5\n",
       "amphibian        4\n",
       "Name: 18. type, dtype: int64"
      ]
     },
     "execution_count": 51,
     "metadata": {},
     "output_type": "execute_result"
    }
   ],
   "source": [
    "option_1 = df[df[\"5. milk\"] == 0]\n",
    "option_1['18. type'].value_counts()"
   ]
  },
  {
   "cell_type": "code",
   "execution_count": 53,
   "metadata": {},
   "outputs": [],
   "source": [
    "new = df[df[\"5. milk\"] == 0]"
   ]
  },
  {
   "cell_type": "code",
   "execution_count": 62,
   "metadata": {},
   "outputs": [
    {
     "data": {
      "text/plain": [
       "bird    20\n",
       "Name: 18. type, dtype: int64"
      ]
     },
     "execution_count": 62,
     "metadata": {},
     "output_type": "execute_result"
    }
   ],
   "source": [
    "option_1 = new[new['3. feathers'] == 1]\n",
    "option_1['18. type'].value_counts()"
   ]
  },
  {
   "cell_type": "code",
   "execution_count": 63,
   "metadata": {},
   "outputs": [
    {
     "data": {
      "text/plain": [
       "fish            13\n",
       "invertebrate    10\n",
       "insect           8\n",
       "reptile          5\n",
       "amphibian        4\n",
       "Name: 18. type, dtype: int64"
      ]
     },
     "execution_count": 63,
     "metadata": {},
     "output_type": "execute_result"
    }
   ],
   "source": [
    "option_0 = new[new['3. feathers'] == 0]\n",
    "option_0['18. type'].value_counts()"
   ]
  },
  {
   "cell_type": "code",
   "execution_count": 72,
   "metadata": {},
   "outputs": [],
   "source": [
    "newnew = new[new['3. feathers'] == 0]"
   ]
  },
  {
   "cell_type": "code",
   "execution_count": 73,
   "metadata": {},
   "outputs": [
    {
     "data": {
      "text/plain": [
       "fish    13\n",
       "Name: 18. type, dtype: int64"
      ]
     },
     "execution_count": 73,
     "metadata": {},
     "output_type": "execute_result"
    }
   ],
   "source": [
    "option_1 = newnew[newnew['13. fins'] == 1]\n",
    "option_1['18. type'].value_counts()"
   ]
  },
  {
   "cell_type": "code",
   "execution_count": 74,
   "metadata": {},
   "outputs": [
    {
     "data": {
      "text/plain": [
       "invertebrate    10\n",
       "insect           8\n",
       "reptile          5\n",
       "amphibian        4\n",
       "Name: 18. type, dtype: int64"
      ]
     },
     "execution_count": 74,
     "metadata": {},
     "output_type": "execute_result"
    }
   ],
   "source": [
    "option_0 = newnew[newnew['13. fins'] == 0]\n",
    "option_0['18. type'].value_counts()"
   ]
  },
  {
   "cell_type": "code",
   "execution_count": 20,
   "metadata": {},
   "outputs": [],
   "source": [
    "def split_data(dataframe, variable):\n",
    "    #Category 1\n",
    "    df1 = dataframe[dataframe[variable] == 1]\n",
    "    count = df1['18. type'].value_counts()\n",
    "    \n",
    "    value = 0\n",
    "    for i in count:\n",
    "        value += i\n",
    "    proba_1 = []\n",
    "    for i in count:\n",
    "        p = (i/value)**2\n",
    "        proba_1.append(p)\n",
    "    sum1 = sum(proba_1)\n",
    "    gini1 = 1 - sum1\n",
    "    \n",
    "    #Category 0\n",
    "    df0 = dataframe[dataframe[variable] == 0]\n",
    "    count0 = df0['18. type'].value_counts()\n",
    "    \n",
    "    value0 = 0\n",
    "    for i in count0:\n",
    "        value0 += i\n",
    "    proba_0 = []\n",
    "    for i in count0:\n",
    "        p0 = (i/value0)**2\n",
    "        proba_0.append(p0)\n",
    "    sum0 = sum(proba_0)\n",
    "    gini0 = 1 - sum0\n",
    "    \n",
    "    gini_summary = [gini0, gini1]\n",
    "    indexes = [0, 1]\n",
    "    \n",
    "    #Total Gini index\n",
    "    res = {indexes[i]: gini_summary[i] for i in range(len(indexes))}\n",
    "    size = value0 + value\n",
    "    total_gini = value/size*gini1 + value0/size*gini0\n",
    "    \n",
    "    return total_gini, res"
   ]
  },
  {
   "cell_type": "code",
   "execution_count": 18,
   "metadata": {},
   "outputs": [],
   "source": [
    "numeric_columns.remove('14. legs')"
   ]
  },
  {
   "cell_type": "code",
   "execution_count": 54,
   "metadata": {},
   "outputs": [],
   "source": [
    "numeric_columns.remove(\"5. milk\")"
   ]
  },
  {
   "cell_type": "code",
   "execution_count": 65,
   "metadata": {},
   "outputs": [],
   "source": [
    "numeric_columns.remove(\"3. feathers\")"
   ]
  },
  {
   "cell_type": "code",
   "execution_count": 66,
   "metadata": {},
   "outputs": [
    {
     "data": {
      "text/plain": [
       "{'2. hair': 0.6736111111111112,\n",
       " '4. eggs': 0.7473684210526316,\n",
       " '6. airborne': 0.6191176470588234,\n",
       " '7. aquatic': 0.61875,\n",
       " '8. predator': 0.7106666666666666,\n",
       " '9. toothed': 0.5436090225563911,\n",
       " '10. backbone': 0.5335858585858586,\n",
       " '11. breathes': 0.6011278195488723,\n",
       " '12. venomous': 0.7515625,\n",
       " '13. fins': 0.4851851851851853,\n",
       " '15. tail': 0.5625,\n",
       " '16. domestic': 0.7552631578947369,\n",
       " '17. catsize': 0.7352941176470588}"
      ]
     },
     "execution_count": 66,
     "metadata": {},
     "output_type": "execute_result"
    }
   ],
   "source": [
    "total_gini_list = []\n",
    "dictionaries = []\n",
    "for i in numeric_columns:\n",
    "    total_gini, res = split_data(newnew, i)\n",
    "    total_gini_list.append(total_gini)\n",
    "    dictionaries.append(res)\n",
    "\n",
    "final_gini_values = {numeric_columns[i]: total_gini_list[i] for i in range(len(numeric_columns))}\n",
    "final_gini_values"
   ]
  },
  {
   "cell_type": "code",
   "execution_count": 67,
   "metadata": {},
   "outputs": [
    {
     "data": {
      "text/plain": [
       "[{0: 0.7484567901234568, 1: 0.0},\n",
       " {0: 0.5, 1: 0.760387811634349},\n",
       " {0: 0.7283737024221453, 1: 0.0},\n",
       " {0: 0.625, 1: 0.6145833333333334},\n",
       " {0: 0.6844444444444444, 1: 0.7263999999999999},\n",
       " {0: 0.5429362880886428, 1: 0.54421768707483},\n",
       " {0: 0.49382716049382713, 1: 0.5661157024793388},\n",
       " {0: 0.5034013605442177, 1: 0.7091412742382273},\n",
       " {0: 0.744140625, 1: 0.78125},\n",
       " {0: 0.7187928669410152, 1: 0.0},\n",
       " {0: 0.615, 1: 0.51},\n",
       " {0: 0.7686980609418282, 1: 0.5},\n",
       " {0: 0.7768166089965398, 1: 0.5}]"
      ]
     },
     "execution_count": 67,
     "metadata": {},
     "output_type": "execute_result"
    }
   ],
   "source": [
    "dictionaries"
   ]
  },
  {
   "cell_type": "markdown",
   "metadata": {},
   "source": [
    "### Gini index for Numerical columns"
   ]
  },
  {
   "cell_type": "code",
   "execution_count": 58,
   "metadata": {},
   "outputs": [
    {
     "data": {
      "text/plain": [
       "2    20\n",
       "0    20\n",
       "6    10\n",
       "4     7\n",
       "8     2\n",
       "5     1\n",
       "Name: 14. legs, dtype: int64"
      ]
     },
     "execution_count": 58,
     "metadata": {},
     "output_type": "execute_result"
    }
   ],
   "source": [
    "yei2 = new['14. legs'].value_counts()\n",
    "yei2"
   ]
  },
  {
   "cell_type": "code",
   "execution_count": 68,
   "metadata": {},
   "outputs": [
    {
     "data": {
      "text/plain": [
       "array([0, 4, 5, 6, 8], dtype=int64)"
      ]
     },
     "execution_count": 68,
     "metadata": {},
     "output_type": "execute_result"
    }
   ],
   "source": [
    "unique_values = newnew['14. legs'].unique()\n",
    "unique_values.sort()\n",
    "unique_values"
   ]
  },
  {
   "cell_type": "code",
   "execution_count": 24,
   "metadata": {},
   "outputs": [],
   "source": [
    "intermediate_val = []\n",
    "for i, j in zip(unique_values[:-1], unique_values[1:]):\n",
    "    values = (i+j)/2\n",
    "    intermediate_val.append(values)\n",
    "intermediate_val"
   ]
  },
  {
   "cell_type": "code",
   "execution_count": 43,
   "metadata": {},
   "outputs": [],
   "source": [
    "def split_numerical_data(df, numerical_val):\n",
    "    unique_values = df[numerical_val].unique()\n",
    "    unique_values.sort()\n",
    "    intermediate_val = []\n",
    "    for i, j in zip(unique_values[:-1], unique_values[1:]):\n",
    "        values = (i+j)/2\n",
    "        intermediate_val.append(values)\n",
    "    \n",
    "    total_gini_list = []\n",
    "    dictionaries = []    \n",
    "    \n",
    "    for k in intermediate_val:\n",
    "        \n",
    "        #Category Yes (for smaller than)\n",
    "        df1 = df[df[numerical_val] < k]\n",
    "        count = df1['18. type'].value_counts()\n",
    "        value = 0\n",
    "        for h in count:\n",
    "            value += h\n",
    "        proba = []\n",
    "        for h in count:\n",
    "            p = (h/value)**2\n",
    "            proba.append(p)\n",
    "        sum1 = sum(proba)\n",
    "        gini = 1 - sum1\n",
    "        \n",
    "        #Category No (for greater or equal)\n",
    "        df0 = df[df[numerical_val] >= k]\n",
    "        count0 = df0['18. type'].value_counts()\n",
    "        value0 = 0\n",
    "        for h in count0:\n",
    "            value0 += h\n",
    "        proba0 = []\n",
    "        for h in count0:\n",
    "            p0 = (h/value0)**2\n",
    "            proba0.append(p0)\n",
    "        sum0 = sum(proba0)\n",
    "        gini0 = 1 - sum0\n",
    "        \n",
    "        gini_summary = [gini0, gini]\n",
    "        indexes = [0, 1]\n",
    "    \n",
    "        #Total Gini index\n",
    "        res = {indexes[i]: gini_summary[i] for i in range(len(indexes))}\n",
    "        size = value0 + value\n",
    "        total_gini = value/size*gini + value0/size*gini0\n",
    "        \n",
    "        total_gini_list.append(total_gini)\n",
    "        dictionaries.append(res)\n",
    "    \n",
    "    final_gini_values = {intermediate_val[i]: total_gini_list[i] for i in range(len(intermediate_val))}\n",
    "\n",
    "    return final_gini_values, dictionaries "
   ]
  },
  {
   "cell_type": "code",
   "execution_count": 69,
   "metadata": {},
   "outputs": [],
   "source": [
    "gini_numerical, dic_numerical  = split_numerical_data(newnew, '14. legs')"
   ]
  },
  {
   "cell_type": "code",
   "execution_count": 70,
   "metadata": {},
   "outputs": [
    {
     "data": {
      "text/plain": [
       "{2.0: 0.6074999999999999,\n",
       " 4.5: 0.6112535612535615,\n",
       " 5.5: 0.6136904761904761,\n",
       " 7.0: 0.7276315789473684}"
      ]
     },
     "execution_count": 70,
     "metadata": {},
     "output_type": "execute_result"
    }
   ],
   "source": [
    "gini_numerical"
   ]
  },
  {
   "cell_type": "code",
   "execution_count": null,
   "metadata": {},
   "outputs": [],
   "source": [
    "# Check\n",
    "\n",
    "# df1 = df[df['14. legs'] >= 1]\n",
    "# count = df1['18. type'].value_counts()\n",
    "# value = 0\n",
    "# for h in count:\n",
    "#     value += h\n",
    "# proba = []\n",
    "# for h in count:\n",
    "#     p = (h/value)**2\n",
    "#     proba.append(p)\n",
    "# sum1 = sum(proba)\n",
    "# gini = 1 - sum1"
   ]
  },
  {
   "cell_type": "markdown",
   "metadata": {},
   "source": [
    "------------------"
   ]
  }
 ],
 "metadata": {
  "kernelspec": {
   "display_name": "Python 3",
   "language": "python",
   "name": "python3"
  },
  "language_info": {
   "codemirror_mode": {
    "name": "ipython",
    "version": 3
   },
   "file_extension": ".py",
   "mimetype": "text/x-python",
   "name": "python",
   "nbconvert_exporter": "python",
   "pygments_lexer": "ipython3",
   "version": "3.7.3"
  }
 },
 "nbformat": 4,
 "nbformat_minor": 2
}
