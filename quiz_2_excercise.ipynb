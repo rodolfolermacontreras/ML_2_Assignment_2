{
 "cells": [
  {
   "cell_type": "code",
   "execution_count": 1,
   "metadata": {},
   "outputs": [],
   "source": [
    "# import packages\n",
    "%matplotlib inline\n",
    "import numpy as np\n",
    "import matplotlib.pyplot as plt\n",
    "import seaborn as sns\n",
    "import pandas as pd\n",
    "from matplotlib.legend_handler import HandlerLine2D\n",
    "from sklearn.metrics import accuracy_score\n",
    "from sklearn.metrics import confusion_matrix\n",
    "from sklearn.metrics import mean_squared_error\n",
    "from sklearn.metrics import mean_absolute_error\n",
    "from sklearn.tree import DecisionTreeClassifier\n",
    "from sklearn.tree import DecisionTreeRegressor\n",
    "from sklearn.model_selection import GridSearchCV\n",
    "\n",
    "# make this notebook's output stable across runs\n",
    "np.random.seed(0)"
   ]
  },
  {
   "cell_type": "code",
   "execution_count": 2,
   "metadata": {},
   "outputs": [
    {
     "data": {
      "text/html": [
       "<div>\n",
       "<style scoped>\n",
       "    .dataframe tbody tr th:only-of-type {\n",
       "        vertical-align: middle;\n",
       "    }\n",
       "\n",
       "    .dataframe tbody tr th {\n",
       "        vertical-align: top;\n",
       "    }\n",
       "\n",
       "    .dataframe thead th {\n",
       "        text-align: right;\n",
       "    }\n",
       "</style>\n",
       "<table border=\"1\" class=\"dataframe\">\n",
       "  <thead>\n",
       "    <tr style=\"text-align: right;\">\n",
       "      <th></th>\n",
       "      <th>1. animal name:</th>\n",
       "      <th>2. hair</th>\n",
       "      <th>3. feathers</th>\n",
       "      <th>4. eggs</th>\n",
       "      <th>5. milk</th>\n",
       "      <th>6. airborne</th>\n",
       "      <th>7. aquatic</th>\n",
       "      <th>8. predator</th>\n",
       "      <th>9. toothed</th>\n",
       "      <th>10. backbone</th>\n",
       "      <th>11. breathes</th>\n",
       "      <th>12. venomous</th>\n",
       "      <th>13. fins</th>\n",
       "      <th>14. legs</th>\n",
       "      <th>15. tail</th>\n",
       "      <th>16. domestic</th>\n",
       "      <th>17. catsize</th>\n",
       "      <th>18. type</th>\n",
       "    </tr>\n",
       "  </thead>\n",
       "  <tbody>\n",
       "    <tr>\n",
       "      <th>0</th>\n",
       "      <td>aardvark</td>\n",
       "      <td>True</td>\n",
       "      <td>False</td>\n",
       "      <td>False</td>\n",
       "      <td>True</td>\n",
       "      <td>False</td>\n",
       "      <td>False</td>\n",
       "      <td>True</td>\n",
       "      <td>True</td>\n",
       "      <td>True</td>\n",
       "      <td>True</td>\n",
       "      <td>False</td>\n",
       "      <td>False</td>\n",
       "      <td>4</td>\n",
       "      <td>False</td>\n",
       "      <td>False</td>\n",
       "      <td>True</td>\n",
       "      <td>mammal</td>\n",
       "    </tr>\n",
       "    <tr>\n",
       "      <th>1</th>\n",
       "      <td>antelope</td>\n",
       "      <td>True</td>\n",
       "      <td>False</td>\n",
       "      <td>False</td>\n",
       "      <td>True</td>\n",
       "      <td>False</td>\n",
       "      <td>False</td>\n",
       "      <td>False</td>\n",
       "      <td>True</td>\n",
       "      <td>True</td>\n",
       "      <td>True</td>\n",
       "      <td>False</td>\n",
       "      <td>False</td>\n",
       "      <td>4</td>\n",
       "      <td>True</td>\n",
       "      <td>False</td>\n",
       "      <td>True</td>\n",
       "      <td>mammal</td>\n",
       "    </tr>\n",
       "    <tr>\n",
       "      <th>2</th>\n",
       "      <td>bass</td>\n",
       "      <td>False</td>\n",
       "      <td>False</td>\n",
       "      <td>True</td>\n",
       "      <td>False</td>\n",
       "      <td>False</td>\n",
       "      <td>True</td>\n",
       "      <td>True</td>\n",
       "      <td>True</td>\n",
       "      <td>True</td>\n",
       "      <td>False</td>\n",
       "      <td>False</td>\n",
       "      <td>True</td>\n",
       "      <td>0</td>\n",
       "      <td>True</td>\n",
       "      <td>False</td>\n",
       "      <td>False</td>\n",
       "      <td>fish</td>\n",
       "    </tr>\n",
       "    <tr>\n",
       "      <th>3</th>\n",
       "      <td>bear</td>\n",
       "      <td>True</td>\n",
       "      <td>False</td>\n",
       "      <td>False</td>\n",
       "      <td>True</td>\n",
       "      <td>False</td>\n",
       "      <td>False</td>\n",
       "      <td>True</td>\n",
       "      <td>True</td>\n",
       "      <td>True</td>\n",
       "      <td>True</td>\n",
       "      <td>False</td>\n",
       "      <td>False</td>\n",
       "      <td>4</td>\n",
       "      <td>False</td>\n",
       "      <td>False</td>\n",
       "      <td>True</td>\n",
       "      <td>mammal</td>\n",
       "    </tr>\n",
       "    <tr>\n",
       "      <th>4</th>\n",
       "      <td>boar</td>\n",
       "      <td>True</td>\n",
       "      <td>False</td>\n",
       "      <td>False</td>\n",
       "      <td>True</td>\n",
       "      <td>False</td>\n",
       "      <td>False</td>\n",
       "      <td>True</td>\n",
       "      <td>True</td>\n",
       "      <td>True</td>\n",
       "      <td>True</td>\n",
       "      <td>False</td>\n",
       "      <td>False</td>\n",
       "      <td>4</td>\n",
       "      <td>True</td>\n",
       "      <td>False</td>\n",
       "      <td>True</td>\n",
       "      <td>mammal</td>\n",
       "    </tr>\n",
       "  </tbody>\n",
       "</table>\n",
       "</div>"
      ],
      "text/plain": [
       "  1. animal name:  2. hair  3. feathers  4. eggs  5. milk  6. airborne  \\\n",
       "0        aardvark     True        False    False     True        False   \n",
       "1        antelope     True        False    False     True        False   \n",
       "2            bass    False        False     True    False        False   \n",
       "3            bear     True        False    False     True        False   \n",
       "4            boar     True        False    False     True        False   \n",
       "\n",
       "   7. aquatic  8. predator  9. toothed  10. backbone  11. breathes  \\\n",
       "0       False         True        True          True          True   \n",
       "1       False        False        True          True          True   \n",
       "2        True         True        True          True         False   \n",
       "3       False         True        True          True          True   \n",
       "4       False         True        True          True          True   \n",
       "\n",
       "   12. venomous  13. fins  14. legs  15. tail  16. domestic  17. catsize  \\\n",
       "0         False     False         4     False         False         True   \n",
       "1         False     False         4      True         False         True   \n",
       "2         False      True         0      True         False        False   \n",
       "3         False     False         4     False         False         True   \n",
       "4         False     False         4      True         False         True   \n",
       "\n",
       "  18. type  \n",
       "0   mammal  \n",
       "1   mammal  \n",
       "2     fish  \n",
       "3   mammal  \n",
       "4   mammal  "
      ]
     },
     "execution_count": 2,
     "metadata": {},
     "output_type": "execute_result"
    }
   ],
   "source": [
    "filename = 'animalscsv.csv'\n",
    "df = pd.read_csv(filename)\n",
    "df.head()"
   ]
  },
  {
   "cell_type": "code",
   "execution_count": 3,
   "metadata": {},
   "outputs": [
    {
     "data": {
      "text/plain": [
       "(101, 18)"
      ]
     },
     "execution_count": 3,
     "metadata": {},
     "output_type": "execute_result"
    }
   ],
   "source": [
    "df.shape"
   ]
  },
  {
   "cell_type": "code",
   "execution_count": 4,
   "metadata": {},
   "outputs": [
    {
     "data": {
      "text/plain": [
       "1. animal name:    object\n",
       "2. hair              bool\n",
       "3. feathers          bool\n",
       "4. eggs              bool\n",
       "5. milk              bool\n",
       "6. airborne          bool\n",
       "7. aquatic           bool\n",
       "8. predator          bool\n",
       "9. toothed           bool\n",
       "10. backbone         bool\n",
       "11. breathes         bool\n",
       "12. venomous         bool\n",
       "13. fins             bool\n",
       "14. legs            int64\n",
       "15. tail             bool\n",
       "16. domestic         bool\n",
       "17. catsize          bool\n",
       "18. type           object\n",
       "dtype: object"
      ]
     },
     "execution_count": 4,
     "metadata": {},
     "output_type": "execute_result"
    }
   ],
   "source": [
    "df.dtypes"
   ]
  },
  {
   "cell_type": "code",
   "execution_count": 5,
   "metadata": {},
   "outputs": [
    {
     "data": {
      "text/plain": [
       "1. animal name:    0\n",
       "2. hair            0\n",
       "3. feathers        0\n",
       "4. eggs            0\n",
       "5. milk            0\n",
       "6. airborne        0\n",
       "7. aquatic         0\n",
       "8. predator        0\n",
       "9. toothed         0\n",
       "10. backbone       0\n",
       "11. breathes       0\n",
       "12. venomous       0\n",
       "13. fins           0\n",
       "14. legs           0\n",
       "15. tail           0\n",
       "16. domestic       0\n",
       "17. catsize        0\n",
       "18. type           0\n",
       "dtype: int64"
      ]
     },
     "execution_count": 5,
     "metadata": {},
     "output_type": "execute_result"
    }
   ],
   "source": [
    "df.isnull().sum()"
   ]
  },
  {
   "cell_type": "code",
   "execution_count": 6,
   "metadata": {},
   "outputs": [],
   "source": [
    "numeric_columns = df.columns.to_list()\n",
    "numeric_columns.remove('1. animal name:')\n",
    "numeric_columns.remove('18. type')\n",
    "df[numeric_columns] = df[numeric_columns].astype(int)"
   ]
  },
  {
   "cell_type": "code",
   "execution_count": 134,
   "metadata": {},
   "outputs": [
    {
     "data": {
      "text/plain": [
       "['2. hair',\n",
       " '3. feathers',\n",
       " '4. eggs',\n",
       " '5. milk',\n",
       " '6. airborne',\n",
       " '7. aquatic',\n",
       " '8. predator',\n",
       " '9. toothed',\n",
       " '10. backbone',\n",
       " '11. breathes',\n",
       " '12. venomous',\n",
       " '13. fins',\n",
       " '14. legs',\n",
       " '15. tail',\n",
       " '16. domestic',\n",
       " '17. catsize']"
      ]
     },
     "execution_count": 134,
     "metadata": {},
     "output_type": "execute_result"
    }
   ],
   "source": [
    "numeric_columns"
   ]
  },
  {
   "cell_type": "code",
   "execution_count": 7,
   "metadata": {},
   "outputs": [
    {
     "data": {
      "text/html": [
       "<div>\n",
       "<style scoped>\n",
       "    .dataframe tbody tr th:only-of-type {\n",
       "        vertical-align: middle;\n",
       "    }\n",
       "\n",
       "    .dataframe tbody tr th {\n",
       "        vertical-align: top;\n",
       "    }\n",
       "\n",
       "    .dataframe thead th {\n",
       "        text-align: right;\n",
       "    }\n",
       "</style>\n",
       "<table border=\"1\" class=\"dataframe\">\n",
       "  <thead>\n",
       "    <tr style=\"text-align: right;\">\n",
       "      <th></th>\n",
       "      <th>1. animal name:</th>\n",
       "      <th>2. hair</th>\n",
       "      <th>3. feathers</th>\n",
       "      <th>4. eggs</th>\n",
       "      <th>5. milk</th>\n",
       "      <th>6. airborne</th>\n",
       "      <th>7. aquatic</th>\n",
       "      <th>8. predator</th>\n",
       "      <th>9. toothed</th>\n",
       "      <th>10. backbone</th>\n",
       "      <th>11. breathes</th>\n",
       "      <th>12. venomous</th>\n",
       "      <th>13. fins</th>\n",
       "      <th>14. legs</th>\n",
       "      <th>15. tail</th>\n",
       "      <th>16. domestic</th>\n",
       "      <th>17. catsize</th>\n",
       "      <th>18. type</th>\n",
       "    </tr>\n",
       "  </thead>\n",
       "  <tbody>\n",
       "    <tr>\n",
       "      <th>0</th>\n",
       "      <td>aardvark</td>\n",
       "      <td>1</td>\n",
       "      <td>0</td>\n",
       "      <td>0</td>\n",
       "      <td>1</td>\n",
       "      <td>0</td>\n",
       "      <td>0</td>\n",
       "      <td>1</td>\n",
       "      <td>1</td>\n",
       "      <td>1</td>\n",
       "      <td>1</td>\n",
       "      <td>0</td>\n",
       "      <td>0</td>\n",
       "      <td>4</td>\n",
       "      <td>0</td>\n",
       "      <td>0</td>\n",
       "      <td>1</td>\n",
       "      <td>mammal</td>\n",
       "    </tr>\n",
       "    <tr>\n",
       "      <th>1</th>\n",
       "      <td>antelope</td>\n",
       "      <td>1</td>\n",
       "      <td>0</td>\n",
       "      <td>0</td>\n",
       "      <td>1</td>\n",
       "      <td>0</td>\n",
       "      <td>0</td>\n",
       "      <td>0</td>\n",
       "      <td>1</td>\n",
       "      <td>1</td>\n",
       "      <td>1</td>\n",
       "      <td>0</td>\n",
       "      <td>0</td>\n",
       "      <td>4</td>\n",
       "      <td>1</td>\n",
       "      <td>0</td>\n",
       "      <td>1</td>\n",
       "      <td>mammal</td>\n",
       "    </tr>\n",
       "    <tr>\n",
       "      <th>2</th>\n",
       "      <td>bass</td>\n",
       "      <td>0</td>\n",
       "      <td>0</td>\n",
       "      <td>1</td>\n",
       "      <td>0</td>\n",
       "      <td>0</td>\n",
       "      <td>1</td>\n",
       "      <td>1</td>\n",
       "      <td>1</td>\n",
       "      <td>1</td>\n",
       "      <td>0</td>\n",
       "      <td>0</td>\n",
       "      <td>1</td>\n",
       "      <td>0</td>\n",
       "      <td>1</td>\n",
       "      <td>0</td>\n",
       "      <td>0</td>\n",
       "      <td>fish</td>\n",
       "    </tr>\n",
       "    <tr>\n",
       "      <th>3</th>\n",
       "      <td>bear</td>\n",
       "      <td>1</td>\n",
       "      <td>0</td>\n",
       "      <td>0</td>\n",
       "      <td>1</td>\n",
       "      <td>0</td>\n",
       "      <td>0</td>\n",
       "      <td>1</td>\n",
       "      <td>1</td>\n",
       "      <td>1</td>\n",
       "      <td>1</td>\n",
       "      <td>0</td>\n",
       "      <td>0</td>\n",
       "      <td>4</td>\n",
       "      <td>0</td>\n",
       "      <td>0</td>\n",
       "      <td>1</td>\n",
       "      <td>mammal</td>\n",
       "    </tr>\n",
       "    <tr>\n",
       "      <th>4</th>\n",
       "      <td>boar</td>\n",
       "      <td>1</td>\n",
       "      <td>0</td>\n",
       "      <td>0</td>\n",
       "      <td>1</td>\n",
       "      <td>0</td>\n",
       "      <td>0</td>\n",
       "      <td>1</td>\n",
       "      <td>1</td>\n",
       "      <td>1</td>\n",
       "      <td>1</td>\n",
       "      <td>0</td>\n",
       "      <td>0</td>\n",
       "      <td>4</td>\n",
       "      <td>1</td>\n",
       "      <td>0</td>\n",
       "      <td>1</td>\n",
       "      <td>mammal</td>\n",
       "    </tr>\n",
       "  </tbody>\n",
       "</table>\n",
       "</div>"
      ],
      "text/plain": [
       "  1. animal name:  2. hair  3. feathers  4. eggs  5. milk  6. airborne  \\\n",
       "0        aardvark        1            0        0        1            0   \n",
       "1        antelope        1            0        0        1            0   \n",
       "2            bass        0            0        1        0            0   \n",
       "3            bear        1            0        0        1            0   \n",
       "4            boar        1            0        0        1            0   \n",
       "\n",
       "   7. aquatic  8. predator  9. toothed  10. backbone  11. breathes  \\\n",
       "0           0            1           1             1             1   \n",
       "1           0            0           1             1             1   \n",
       "2           1            1           1             1             0   \n",
       "3           0            1           1             1             1   \n",
       "4           0            1           1             1             1   \n",
       "\n",
       "   12. venomous  13. fins  14. legs  15. tail  16. domestic  17. catsize  \\\n",
       "0             0         0         4         0             0            1   \n",
       "1             0         0         4         1             0            1   \n",
       "2             0         1         0         1             0            0   \n",
       "3             0         0         4         0             0            1   \n",
       "4             0         0         4         1             0            1   \n",
       "\n",
       "  18. type  \n",
       "0   mammal  \n",
       "1   mammal  \n",
       "2     fish  \n",
       "3   mammal  \n",
       "4   mammal  "
      ]
     },
     "execution_count": 7,
     "metadata": {},
     "output_type": "execute_result"
    }
   ],
   "source": [
    "df.head()"
   ]
  },
  {
   "cell_type": "code",
   "execution_count": 8,
   "metadata": {},
   "outputs": [
    {
     "data": {
      "text/plain": [
       "<seaborn.axisgrid.FacetGrid at 0x212141ccc50>"
      ]
     },
     "execution_count": 8,
     "metadata": {},
     "output_type": "execute_result"
    },
    {
     "data": {
      "image/png": "[encoded data removed]",
      "text/plain": [
       "<Figure size 360x360 with 1 Axes>"
      ]
     },
     "metadata": {
      "needs_background": "light"
     },
     "output_type": "display_data"
    }
   ],
   "source": [
    "import seaborn as sns\n",
    "sns.catplot(x='18. type', kind=\"count\", palette=\"ch:.1\", data=df)"
   ]
  },
  {
   "cell_type": "code",
   "execution_count": 9,
   "metadata": {},
   "outputs": [
    {
     "data": {
      "text/plain": [
       "mammal          41\n",
       "bird            20\n",
       "fish            13\n",
       "invertebrate    10\n",
       "insect           8\n",
       "reptile          5\n",
       "amphibian        4\n",
       "Name: 18. type, dtype: int64"
      ]
     },
     "execution_count": 9,
     "metadata": {},
     "output_type": "execute_result"
    }
   ],
   "source": [
    "df['18. type'].value_counts()"
   ]
  },
  {
   "cell_type": "code",
   "execution_count": 13,
   "metadata": {},
   "outputs": [
    {
     "data": {
      "text/plain": [
       "100"
      ]
     },
     "execution_count": 13,
     "metadata": {},
     "output_type": "execute_result"
    }
   ],
   "source": [
    "len(df['1. animal name:'].unique())"
   ]
  },
  {
   "cell_type": "code",
   "execution_count": 10,
   "metadata": {},
   "outputs": [
    {
     "data": {
      "text/plain": [
       "0    58\n",
       "1    43\n",
       "Name: 2. hair, dtype: int64"
      ]
     },
     "execution_count": 10,
     "metadata": {},
     "output_type": "execute_result"
    }
   ],
   "source": [
    "df[\"2. hair\"].value_counts()"
   ]
  },
  {
   "cell_type": "markdown",
   "metadata": {},
   "source": [
    "-----------------"
   ]
  },
  {
   "cell_type": "code",
   "execution_count": 18,
   "metadata": {},
   "outputs": [
    {
     "data": {
      "text/plain": [
       "mammal    39\n",
       "insect     4\n",
       "Name: 18. type, dtype: int64"
      ]
     },
     "execution_count": 18,
     "metadata": {},
     "output_type": "execute_result"
    }
   ],
   "source": [
    "option = df[df[\"2. hair\"] == 1]\n",
    "option['18. type'].value_counts()"
   ]
  },
  {
   "cell_type": "code",
   "execution_count": 80,
   "metadata": {},
   "outputs": [],
   "source": [
    "yei = option['18. type'].value_counts()"
   ]
  },
  {
   "cell_type": "code",
   "execution_count": 86,
   "metadata": {},
   "outputs": [
    {
     "data": {
      "text/plain": [
       "39"
      ]
     },
     "execution_count": 86,
     "metadata": {},
     "output_type": "execute_result"
    }
   ],
   "source": [
    "yei['mammal']"
   ]
  },
  {
   "cell_type": "code",
   "execution_count": 79,
   "metadata": {},
   "outputs": [
    {
     "data": {
      "text/plain": [
       "bird            20\n",
       "fish            13\n",
       "invertebrate    10\n",
       "reptile          5\n",
       "insect           4\n",
       "amphibian        4\n",
       "mammal           2\n",
       "Name: 18. type, dtype: int64"
      ]
     },
     "execution_count": 79,
     "metadata": {},
     "output_type": "execute_result"
    }
   ],
   "source": [
    "option_1 = df[df[\"2. hair\"] == 0]\n",
    "option_1['18. type'].value_counts()"
   ]
  },
  {
   "cell_type": "code",
   "execution_count": 130,
   "metadata": {},
   "outputs": [],
   "source": [
    "def split_data(dataframe, variable):\n",
    "    #Category 1\n",
    "    df1 = dataframe[dataframe[variable] == 1]\n",
    "    count = df1['18. type'].value_counts()\n",
    "    value = 0\n",
    "    for i in count:\n",
    "        value += i\n",
    "    proba_1 = []\n",
    "    for i in count:\n",
    "        p = (i/value)**2\n",
    "        proba_1.append(p)\n",
    "    sum1 = sum(proba_1)\n",
    "    gini1 = 1 - sum1\n",
    "    \n",
    "    #Category 0\n",
    "    df0 = dataframe[dataframe[variable] == 0]\n",
    "    count0 = df0['18. type'].value_counts()\n",
    "    value0 = 0\n",
    "    for i in count0:\n",
    "        value0 += i\n",
    "    proba_0 = []\n",
    "    for i in count0:\n",
    "        p0 = (i/value0)**2\n",
    "        proba_0.append(p0)\n",
    "    sum0 = sum(proba_0)\n",
    "    gini0 = 1 - sum0\n",
    "    \n",
    "    gini_summary = [gini0, gini1]\n",
    "    indexes = [0, 1]\n",
    "    \n",
    "    #Total Gini index\n",
    "    res = {indexes[i]: gini_summary[i] for i in range(len(indexes))}\n",
    "    size = value0 + value1\n",
    "    total_gini = value1/size*gini1 + value0/size*gini0\n",
    "    \n",
    "    return total_gini, res"
   ]
  },
  {
   "cell_type": "code",
   "execution_count": 135,
   "metadata": {},
   "outputs": [],
   "source": [
    "numeric_columns.remove('14. legs')"
   ]
  },
  {
   "cell_type": "code",
   "execution_count": 143,
   "metadata": {},
   "outputs": [
    {
     "data": {
      "text/plain": [
       "{'2. hair': 0.5214812579894718,\n",
       " '3. feathers': 0.4486260454002389,\n",
       " '4. eggs': 0.44270143564464,\n",
       " '5. milk': 0.4572815533980582,\n",
       " '6. airborne': 0.6155318061568062,\n",
       " '7. aquatic': 0.6935824891843411,\n",
       " '8. predator': 0.7456735724592867,\n",
       " '9. toothed': 0.5787660720819316,\n",
       " '10. backbone': 0.6162105793640029,\n",
       " '11. breathes': 0.6075662667410714,\n",
       " '12. venomous': 0.7455897177419355,\n",
       " '13. fins': 0.5982208538811542,\n",
       " '15. tail': 0.6923445559271646,\n",
       " '16. domestic': 0.7058214832730394,\n",
       " '17. catsize': 0.6667085326953748}"
      ]
     },
     "execution_count": 143,
     "metadata": {},
     "output_type": "execute_result"
    }
   ],
   "source": [
    "total_gini_list = []\n",
    "dictionaries = []\n",
    "for i in numeric_columns:\n",
    "    total_gini, res = split_data(df, i)\n",
    "    total_gini_list.append(total_gini)\n",
    "    dictionaries.append(res)\n",
    "\n",
    "final_gini_values = {numeric_columns[i]: total_gini_list[i] for i in range(len(numeric_columns))}\n",
    "final_gini_values"
   ]
  },
  {
   "cell_type": "markdown",
   "metadata": {},
   "source": [
    "### Gini index for Numerical columns"
   ]
  },
  {
   "cell_type": "code",
   "execution_count": null,
   "metadata": {},
   "outputs": [],
   "source": []
  },
  {
   "cell_type": "code",
   "execution_count": 107,
   "metadata": {},
   "outputs": [
    {
     "data": {
      "text/plain": [
       "0.1687398593834506"
      ]
     },
     "execution_count": 107,
     "metadata": {},
     "output_type": "execute_result"
    }
   ],
   "source": [
    "# df1 = df[df[\"2. hair\"] == 1]\n",
    "# count1 = df1['18. type'].value_counts()\n",
    "# value1 = 0\n",
    "# index_1 = count1.index.tolist()\n",
    "# proba_1 = []\n",
    "# for i in count1:\n",
    "#     value1 += i      \n",
    "# for i in count1:\n",
    "#     p = (i/value1)**2\n",
    "#     proba_1.append(p)\n",
    "# sum1 = sum(proba_1)\n",
    "# gini1 = 1 - sum1\n",
    "# gini1\n",
    "\n",
    "#****************************************\n",
    "\n",
    "# df0 = df[df[\"2. hair\"] == 0]\n",
    "# count0 = df0['18. type'].value_counts()\n",
    "# value0 = 0\n",
    "# index_0 = count0.index.tolist()\n",
    "# proba_0 = []\n",
    "# for i in count0:\n",
    "#     value0 += i      \n",
    "# for i in count0:\n",
    "#     p0 = (i/value0)**2\n",
    "#     proba_0.append(p0)\n",
    "# sum0 = sum(proba_0)\n",
    "# gini0 = 1 - sum0\n",
    "# gini0"
   ]
  },
  {
   "cell_type": "markdown",
   "metadata": {},
   "source": [
    "------------------"
   ]
  }
 ],
 "metadata": {
  "kernelspec": {
   "display_name": "Python 3",
   "language": "python",
   "name": "python3"
  },
  "language_info": {
   "codemirror_mode": {
    "name": "ipython",
    "version": 3
   },
   "file_extension": ".py",
   "mimetype": "text/x-python",
   "name": "python",
   "nbconvert_exporter": "python",
   "pygments_lexer": "ipython3",
   "version": "3.7.3"
  }
 },
 "nbformat": 4,
 "nbformat_minor": 2
}
